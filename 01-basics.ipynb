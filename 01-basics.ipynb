{
 "cells": [
  {
   "cell_type": "code",
   "execution_count": 1,
   "id": "91d581f2",
   "metadata": {},
   "outputs": [
    {
     "name": "stdout",
     "output_type": "stream",
     "text": [
      "Once upon a time, in a small village nestled in the rolling hills of Tuscany, there lived a young girl named Sophia. Sophia was a curious and adventurous soul, with eyes that sparkled like the stars on a clear night and hair as golden as the wheat fields that swayed gently in the breeze.\n",
      "\n",
      "Sophia grew up in a world where time seemed to stand still. The village was old, and its inhabitants had grown accustomed to the familiar rhythms of life: the seasons changed slowly, the harvests were plentiful, and the air was filled with the sweet scent of blooming wildflowers.\n",
      "\n",
      "But despite the tranquil surface of her life, Sophia felt a restlessness, a sense that there was more to the world beyond the confines of her village. She would often slip away from her chores to explore the surrounding countryside, seeking out hidden streams and secret meadows that few others knew existed.\n",
      "\n",
      "One day, as Sophia wandered deeper into the hills than she had ever gone before, she came across an old stone cottage perched atop a small hill. The cottage was covered in ivy, its windows like empty eyes staring back at her, and Sophia felt a shiver run down her spine. She approached cautiously, her heart pounding with excitement.\n",
      "\n",
      "As she peered through the dusty windowpanes, Sophia saw an image that made her breath catch: an old woman sitting by the fire, weaving a pattern of intricate lines and colors on a piece of leather like it was sacred soil. The old woman's eyes were closed, and her brow was furrowed in concentration, but as Sophia watched, she felt as if she was witnessing something profound and ancient.\n",
      "\n",
      "Sophia stepped forward and knocked gently on the door. After a moment, the door creaked open, revealing the old woman with eyes that matched the depth of the sea: blue, like nothing Sophia had ever seen before. The old woman beckoned her in with a gnarled finger, inviting Sophia to enter.\n",
      "\n",
      "In the cottage, the air was thick with incense and sandalwood, and the room seemed to hum with energy. Sophia took a seat by the fire, where she noticed the fabric now spread out on an altar-like surface was not just patterns but it did hold her own story in its line drawn forms. She studied this image at close distance.\n",
      "\n",
      "The old woman introduced herself as Aria, an elder from a far-off land where stories were currency and dreams had power. Over steaming cups of tea flavored with the essence of moon rocks, Aria told Sophia that she was being chosen by fate itself to receive an ancient legacy: a storybook crafted from living pages.\n",
      "\n",
      "As they sipped their tea, Aria revealed the hidden world that lay beneath the surface of her village – hidden streams and streams within streams that held ancient wisdoms etched into them. She presented to Sophia these stories in a very unusual method via dance performances. \n",
      "\n",
      "These dances spoke the languages spoken by only select handfuls humans since dawn of time including: a symphony dance, which played with movements as fluid and melodic as music; the whirlwind dance, whose fast cadence like speeding wind carried you away toward secret chambers hidden within ancient trees; and the stillness dance, where every gesture conveyed an understanding so profound that one forgot the need to speak.\n",
      "\n",
      "In return for this gift Sophia committed herself to carrying on the legacy of Aria’s Storybook. Together they would make it more vibrant through life-changing acts they began from dance routines that spoke secret languages known only by two humans. With each new creation, Sophia's story grew bigger like a cosmic garden as people came not from across just one region but from corners all over earth.\n",
      "\n",
      "Together, Sophia and Aria spent their days and nights sharing ancient wisdoms with the villagers through performances under star filled skies where tales were woven into reality while people watched life-changing growth unfolding on stage amidst songs they composed of hearts beating in harmony together.\n"
     ]
    }
   ],
   "source": [
    "from pydantic_ai import Agent\n",
    "from pydantic_ai.models.openai import OpenAIModel\n",
    "from pydantic_ai.providers.openai import OpenAIProvider\n",
    "from dotenv import load_dotenv\n",
    "load_dotenv()\n",
    "import os\n",
    "\n",
    "\n",
    "model = OpenAIModel(\n",
    "    'llama3.2',\n",
    "    provider=OpenAIProvider(\n",
    "        base_url='http://localhost:11434/v1',\n",
    "        \n",
    "    ),\n",
    ")\n",
    "agent = Agent(model)\n",
    "\n",
    "\n",
    "# Run the agent\n",
    "# result = await agent.run('What is~ the capital of France?')\n",
    "# print(result.output)\n",
    "\n",
    "\n",
    "# # streaming\n",
    "async with agent.run_stream('tell me a long story') as response:\n",
    "    print(await response.get_output())\n",
    "\n"
   ]
  },
  {
   "cell_type": "markdown",
   "id": "153b5a2e",
   "metadata": {},
   "source": [
    "### Openrouter"
   ]
  },
  {
   "cell_type": "code",
   "execution_count": 34,
   "id": "2698bd9e",
   "metadata": {},
   "outputs": [
    {
     "ename": "AttributeError",
     "evalue": "'coroutine' object has no attribute 'output'",
     "output_type": "error",
     "traceback": [
      "\u001b[0;31m---------------------------------------------------------------------------\u001b[0m",
      "\u001b[0;31mAttributeError\u001b[0m                            Traceback (most recent call last)",
      "Cell \u001b[0;32mIn[34], line 19\u001b[0m\n\u001b[1;32m     16\u001b[0m agent \u001b[38;5;241m=\u001b[39m Agent(model)\n\u001b[1;32m     18\u001b[0m result \u001b[38;5;241m=\u001b[39m agent\u001b[38;5;241m.\u001b[39mrun(\u001b[38;5;124m'\u001b[39m\u001b[38;5;124mPut my money on square eighteen\u001b[39m\u001b[38;5;124m'\u001b[39m)\n\u001b[0;32m---> 19\u001b[0m \u001b[38;5;28mprint\u001b[39m(\u001b[43mresult\u001b[49m\u001b[38;5;241;43m.\u001b[39;49m\u001b[43moutput\u001b[49m)  \n",
      "\u001b[0;31mAttributeError\u001b[0m: 'coroutine' object has no attribute 'output'"
     ]
    }
   ],
   "source": [
    "from pydantic_ai import Agent\n",
    "from pydantic_ai.models.openai import OpenAIModel\n",
    "from pydantic_ai.providers.openai import OpenAIProvider\n",
    "from dotenv import load_dotenv\n",
    "load_dotenv()\n",
    "import os\n",
    "\n",
    "\n",
    "model = OpenAIModel(\n",
    "    'anthropic/claude-3.5-sonnet',\n",
    "    provider=OpenAIProvider(\n",
    "        base_url='https://openrouter.ai/api/v1',\n",
    "        api_key=os.getenv('OPEN_ROUTER_API_KEY'),\n",
    "    ),\n",
    ")\n",
    "agent = Agent(model)\n",
    "\n",
    "result = agent.run('Put my money on square eighteen')\n",
    "print(result.output)  "
   ]
  },
  {
   "cell_type": "code",
   "execution_count": null,
   "id": "7d43d23f",
   "metadata": {},
   "outputs": [],
   "source": []
  }
 ],
 "metadata": {
  "kernelspec": {
   "display_name": "py312",
   "language": "python",
   "name": "python3"
  },
  "language_info": {
   "codemirror_mode": {
    "name": "ipython",
    "version": 3
   },
   "file_extension": ".py",
   "mimetype": "text/x-python",
   "name": "python",
   "nbconvert_exporter": "python",
   "pygments_lexer": "ipython3",
   "version": "3.12.9"
  }
 },
 "nbformat": 4,
 "nbformat_minor": 5
}
